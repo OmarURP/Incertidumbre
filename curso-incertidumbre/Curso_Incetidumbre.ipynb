{
    "cells": [
        {
            "cell_type": "markdown",
            "metadata": {
                "language": "markdown"
            },
            "source": [
                "# **Apuntes Curso de Incertidumbre**",
                "---",
                "## *Subcoordinación de Posgrado y Educación Continua.*",
                "[Instituto Mexicano de Tecnología del Agua](https://www.gob.mx/imta).<br>",
                "<img src=\"Imagenes/IMTA_logo.jpg\" style=\"height: 5em; vertical-align: middle;\">",
                "<img src=\"Imagenes/Mexico.jpg\" style=\"height: 5em; vertical-align: middle;\">",
                "---",
                "**Alumno: Ing. Omar Ulises Robles Pereyra** <br>",
                "**Tutor: Dr. Ariosto Aguilar Chávez** <br>"
            ]
        },
        {
            "cell_type": "markdown",
            "metadata": {
                "language": "markdown"
            },
            "source": [
                "### **1.- Recomendaciones en medición**",
                "---",
                "En la introducción de la **Guide to the Expression of Uncertainty in Measurement** ***(GUM)*** se tienen algunas recomendaciones fundamentales para evaluar la incertidumbre y se pueden agrupar como:",
                "- Un repote de una medición de una cantidad física debe incluir la calidad cuantitativa del resultado. Por lo tanto, es necesario que exista un procedimiento de fácil implementación y comprensión para definir la ***calidad del resultado de medición***(evaluar y expresar su incertidumbre)",
                "- Se debe reconocer que aún cuando se han evaluado todos los componentes conocidos del error y aplicando las correciones, hay una incertidumbre de la exactitud del resultado declarado.",
                "- El método ideal para evaluar y expresar la incertidumbre del resultado de una medición debe ser: <br>",
                "    - Universal: Aplicable a todo tipo de mediciones y a todo tipo de datos de entrada usados en las mediciones.",
                "    - Internamente consistente: Originado por los componentes que lo integran.",
                "    - Transferible: Debe ser posible usar la incertidumbre evaluada, para evaluar la incertidumbre de otra medición como parte de uno de sus componentes.",
                "#### **2.- Determinación de la incertidumbre**",
                "---",
                "Sea el experimento de dos equipos de disparo de pelotas de tenis <br>",
                "![Imagen01](Imagenes/Imagen1.png) <br>",
                "Esta imagen usa una analogía al tiro al blanco, su propósito es explicar dos conceptos clave en cualquier medición: **Exactitud** y **Precisión**, fundamentales para entender la incertidumbre.<br>",
                "- ***Objetivo:*** Tiro dentro del centro amarillo **(Valor verdadero e ideal)**. Los disparos representan mediciones que se toman.<br>",
                "##### **Equipo A**",
                "- Precisión Alta: Se observa que todos los disparos están juntos, agrupados en un área pequeña. Significa que se tiene un método de disparo ***preciso y repetible***. Si disparan de nuevo es probable que el tiro caiga cerca del resto.",
                "- Exactitud baja: El grupo de disparos está lejos del centro amarillo. El promedio de disparos (cruz roja) no coincide con el objetivo. Significa que se tiene un método de disparo ***inexacto***.",
                "",
                "Usualmente se asocia a un **error sistemático**. Por ejemplo, la mira del equipo podría estar descalibrado y apuntar simpre hacia arriba y a la derecha. No importa que tan preciso sea el equipo, siempre fallará enla misma dirección hasta que se calibre y corrija ese error.",
                "##### **Equipo B**",
                "- Precisión baja: Los disparos están muy dispersos por todo el blanco. No hay un agrupamiento claro. Significa que el método de disparo es **impreciso**, debido a que existe mucha variabilidad en cada tiro.",
                "- Exactitud alta: A pesar de la dispersión, el promedio de disparos (cruz roja) está muy cerca del amarillo. En promedio, el equipo es **exacto**",
                "",
                "Esto de debe a **errores aleatorios**. Son factores impredecibles que cambian con cada disaparo (ráfagas de viento, pulso tembloroso, etc.). Estos errores hacen que los resultados varíen al azar alrededor del valor real.",
                "",
                "***Conclusión:*** ",
                "",
                "La incertidumbre en una medición es una forma de cuantificar la exactitud que tenemos sobre el resultado. <br>",
                "El **Equipo A** tiene una incetidumbre pequeña en cuanto a la repetición (sabe que sus tiros caeran juntos), pero tiene un gran error (sesgo) que no está considerado. Su resultado es consistentemente erróneo.",
                "El **Equipo B** tiene una gran incertudimbre en cada disparo individual, pero el promedio de muchos disparos es confiable y se acerca al valor real.<br>",
                "",
                "Siempre se desea tener un equipo que sea la combinación de cualidades del equipo A **(preciso)** y B **(exacto)**. Se busca tener todos los disapros agrupados justo al centro. La incetidumbre busca medir qué tan lejos estamos de ese ideal, considerando tanto errores sistemáticos (inexactitud) como errores aleatorios (imprecisión).",
                "##### **2.1.- Histograma de los datos experimentales**",
                "",
                "![Imagen01](Imagenes/Imagen2.png) <br>",
                "El experimento anterior puede visualizarse mediante la distribución de los datos, la imagen muestra cómo agrupar las mediciones en torno al valor real que se intenta medir.",
                "##### **Gráfico Izquierda(Equipo A): Preciso pero inexacto**",
                "Este gráfico representa una situación con un error sistemático o sesgo.",
                "- **Alta precisión:** La curva es alta y esbelta, esto significa que la mayoría de las mediciones dieron resultados muy similares entre si. Hay poca dispersión o error aleatorio.",
                "- **Baja exactitud:** El problema es que el centro de las mediciones (media) no coincide con el valor verdadero. Todo el conjunto de datos está desviado.",
                "",
                "Todos los disparos están juntos (precisos), pero lejos del centro (inexactos). Esto podría pasar si se usara un instrumento mal calibrado.",
                "##### **Gráfico Derecha(Equipo B): Exacto pero Impreciso**",
                "Este gráfico representa una situación dominada por el error aleatorio.",
                "- **Alta exactitud:** La media de las mediciones coincide perfectamente (o está muy cerca) del valor verdadero. En promedio los resultados son correctos.",
                "- **Baja precisión:** La curva es ancha y aplanada. Esto indica que las mediciones están muy dispersas. Hay una gran variabilidad entre un resultado y otro.",
                "",
                "Los disparos están por todas partes (imprecisos), pero el centro de todos ellos sí le da al centro del blanco (exacto). Esto puede ocurrir por factores fluctuantes que no se pueden controlar, como cambios de temperatura o ruido electrónico en un sensor.",
                "",
                "***Conclusión:*** ",
                "Se busca siempre lograr lo mejor de ambos equipos: una curva alta y estrecha (alta precisión) que esté perfectamente centrada en el valor verdadero (alta exactitud). Analizar los datos de esta forma ayuda a entender qué tipo de error (sistemático o aleatorio) está afectando más los resultados.",
                "#### **3.- Clasificación de la incertidumbre**",
                "---",
                "La incertidumbre puede dividirse en dos categorías según la determinación de cada una.",
                "##### **Incertidumbre tipo A: Por repetición**",
                "Es la incertidumbre que se puede calcular estadísticamente porque se ha repetido una meidición varias veces.",
                "- ¿Cómo obtenerla? Se mide lo mismo una y otra vez (Ej. Pesar un objeto 10 veces) y posteriormente se usan métodos estadísticos para el análisis de los datos.",
                "- ¿Qué representa? Refleja los **errores aleatorios** o la dispersión de los datos. Es la impresición que se vió en el ***Equipo B*** o en la ***Figura derecha***.",
                "",
                "Si se repite el experimento varias veces y se analiza cóm varían los resultados, la incertidumbre que se calcula de esa variación es de Tipo A.",
                "##### **Incertidumbre tipo b: Por documentación**",
                "Esta es la incertidumbre que se evalúa usando cualquier otra información que no sea la repetición estadística de la medición.",
                "- ¿Cómo obtenerla? Recopilando fuentes de información de fuentes confiables.",
                "    - Especificaciones del fabricante: La caja de una regla dice que tiene una precisión de ±0.5 mm. Esa es una incertidumbre Tipo B.",
                "    - Certificados de calibración: Un laboratorio certifica que tu termómetro tiene una incertidumbre de ±0.1 °C.",
                "    - Experiencia previa: Sabes por experiencia que la temperatura en tu laboratorio varía, afectando tu resultado en un ±2%.",
                "    - Manuales y datos publicados: Un manual de referencia indica la incertidumbre de una constante física que estás usando en tus cálculos.",
                "",
                "- ¿Qué representa? Se relaciona con errores sistemáticos o sesgos. Es la exactitud del \"Equipo A\", donde hay un error que no se descubrirá por más que repitas la medición.",
                "",
                "Lo más importante es que la incertidumbre total de una medición final es una combinación de ambas incertidumbres, Tipo A y Tipo B."
            ]
        },
        {
            "cell_type": "markdown",
            "metadata": {
                "language": "markdown"
            },
            "source": [
                "| Característica | Tipo A | Tipo B |",
                "|:--------:|:--------:|:--------:|",
                "|  Evaluación  |  Métodos estadísticos   | Juicio basado en información externa |",
                "|  Fuente  |  Serie de mediciones repetidas  |  Manuales, certificados, especificaciones |",
                "|  Refleja   |  Errores aleatorios (imprecisión)  |  Errores sistemáticos (inexactitud) |",
                "|  Ejemplo   |  La desviación de 10 pesajes   | La precisión indicada en la caja de la balanza |"
            ]
        }
    ],
    "metadata": {
        "kernelspec": {
            "display_name": "Python 3",
            "language": "python",
            "name": "python3"
        },
        "language_info": {
            "codemirror_mode": {
                "name": "ipython",
                "version": 3
            },
            "file_extension": ".py",
            "mimetype": "text/x-python",
            "name": "python",
            "nbconvert_exporter": "python",
            "pygments_lexer": "ipython3",
            "version": "3.8.5"
        }
    },
    "nbformat": 4,
    "nbformat_minor": 4
}