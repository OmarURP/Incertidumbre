{
 "cells": [
  {
   "cell_type": "markdown",
   "id": "73428669",
   "metadata": {},
   "source": [
    "# **Apuntes Curso de Incertidumbre**\n",
    "---\n",
    "***Subcoordinación de Posgrado y Educación Continua.***\n",
    "[Instituto Mexicano de Tecnología del Agua](https://www.gob.mx/imta).<br>\n",
    "<img src=\"Imagenes\\IMTA_logo.jpg\" style=\"height: 5em; vertical-align: middle;\">\n",
    "<img src=\"Imagenes\\Mexico.jpg\" style=\"height: 3em; vertical-align: middle;\">\n",
    "---\n",
    "**Alumno: Ing. Omar Ulises Robles Pereyra** <br>\n",
    "**Tutor: Dr. Ariosto Aguilar Chávez** <br>"
   ]
  },
  {
   "cell_type": "markdown",
   "id": "afa3751e",
   "metadata": {},
   "source": [
    "### **1.- Recomendaciones en medición**\n",
    "---\n",
    "En la introducción de la **Guide to the Expression of Uncertainty in Measurement** ***(GUM)*** se tienen algunas recomendaciones fundamentales para evaluar la incertidumbre y se pueden agrupar como:\n",
    "- Un repote de una medición de una cantidad física debe incluir la calidad cuantitativa del resultado. Por lo tanto, es necesario que exista un procedimiento de fácil implementación y comprensión para definir la ***calidad del resultado de medición***(evaluar y expresar su incertidumbre)\n",
    "- Se debe reconocer que aún cuando se han evaluado todos los componentes conocidos del error y aplicando las correciones, hay una incertidumbre de la exactitud del resultado declarado.\n",
    "- El método ideal para evaluar y expresar la incertidumbre del resultado de una medición debe ser: <br>\n",
    "    - Universal: Aplicable a todo tipo de mediciones y a todo tipo de datos de entrada usados en las mediciones.\n",
    "    - Internamente consistente: Originado por los componentes que lo integran.\n",
    "    - Transferible: Debe ser posible usar la incertidumbre evaluada, para evaluar la incertidumbre de otra medición como parte de uno de sus componentes.\n",
    "#### **2.- Determinación de la incertidumbre**\n",
    "---\n",
    "Sea el experimento de dos equipos de disparo de pelotas de tenis <br>\n",
    "<img src=\"Imagenes\\Imagen1.png\" style=\"height: 15em; vertical-align: middle;\"><br>\n",
    "Esta imagen usa una analogía al tiro al blanco, su propósito es explicar dos conceptos clave en cualquier medición: **Exactitud** y **Precisión**, fundamentales para entender la incertidumbre.<br>\n",
    "- ***Objetivo:*** Tiro dentro del centro amarillo **(Valor verdadero e ideal)**. Los disparos representan mediciones que se toman.<br>\n",
    "##### **Equipo A**\n",
    "- Precisión Alta: Se observa que todos los disparos están juntos, agrupados en un área pequeña. Significa que se tiene un método de disparo ***preciso y repetible***. Si disparan de nuevo es probable que el tiro caiga cerca del resto.\n",
    "- Exactitud baja: El grupo de disparos está lejos del centro amarillo. El promedio de disparos (cruz roja) no coincide con el objetivo. Significa que se tiene un método de disparo ***inexacto***.\n",
    "\n",
    "Usualmente se asocia a un **error sistemático**. Por ejemplo, la mira del equipo podría estar descalibrado y apuntar simpre hacia arriba y a la derecha. No importa que tan preciso sea el equipo, siempre fallará enla misma dirección hasta que se calibre y corrija ese error.\n",
    "##### **Equipo B**\n",
    "- Precisión baja: Los disparos están muy dispersos por todo el blanco. No hay un agrupamiento claro. Significa que el método de disparo es **impreciso**, debido a que existe mucha variabilidad en cada tiro.\n",
    "- Exactitud alta: A pesar de la dispersión, el promedio de disparos (cruz roja) está muy cerca del amarillo. En promedio, el equipo es **exacto**\n",
    "\n",
    "Esto de debe a **errores aleatorios**. Son factores impredecibles que cambian con cada disaparo (ráfagas de viento, pulso tembloroso, etc.). Estos errores hacen que los resultados varíen al azar alrededor del valor real.\n",
    "\n",
    "***Conclusión:*** \n",
    "\n",
    "La incertidumbre en una medición es una forma de cuantificar la exactitud que tenemos sobre el resultado. <br>\n",
    "El **Equipo A** tiene una incetidumbre pequeña en cuanto a la repetición (sabe que sus tiros caeran juntos), pero tiene un gran error (sesgo) que no está considerado. Su resultado es consistentemente erróneo.\n",
    "El **Equipo B** tiene una gran incertudimbre en cada disparo individual, pero el promedio de muchos disparos es confiable y se acerca al valor real.<br>\n",
    "\n",
    "Siempre se desea tener un equipo que sea la combinación de cualidades del equipo A **(preciso)** y B **(exacto)**. Se busca tener todos los disapros agrupados justo al centro. La incetidumbre busca medir qué tan lejos estamos de ese ideal, considerando tanto errores sistemáticos (inexactitud) como errores aleatorios (imprecisión).\n",
    "##### **Histograma de los datos experimentales**\n",
    "---\n",
    "<img src=\"Imagenes\\Imagen2.png\" style=\"height: 15em; vertical-align: middle;\"><br>\n",
    "El experimento anterior puede visualizarse mediante la distribución de los datos, muestra cómo agrupar las mediciones en torno al valor real que se intenta medir\n"
   ]
  }
 ],
 "metadata": {
  "kernelspec": {
   "display_name": "Python 3 (ipykernel)",
   "language": "python",
   "name": "python3"
  },
  "language_info": {
   "codemirror_mode": {
    "name": "ipython",
    "version": 3
   },
   "file_extension": ".py",
   "mimetype": "text/x-python",
   "name": "python",
   "nbconvert_exporter": "python",
   "pygments_lexer": "ipython3",
   "version": "3.12.4"
  }
 },
 "nbformat": 4,
 "nbformat_minor": 5
}
